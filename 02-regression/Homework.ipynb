{
 "cells": [
  {
   "cell_type": "code",
   "execution_count": 6,
   "id": "4cbb001c-c574-4e50-b535-5a11ab767bf6",
   "metadata": {},
   "outputs": [],
   "source": [
    "import pandas as pd\n",
    "import numpy as np\n",
    "import matplotlib.pyplot as plt"
   ]
  },
  {
   "cell_type": "code",
   "execution_count": 14,
   "id": "e39d8f1c-8cbf-4544-ae2d-3a692a753f0c",
   "metadata": {},
   "outputs": [
    {
     "data": {
      "text/plain": [
       "Index(['engine_displacement', 'num_cylinders', 'horsepower', 'vehicle_weight',\n",
       "       'acceleration', 'model_year', 'origin', 'fuel_type', 'drivetrain',\n",
       "       'num_doors', 'fuel_efficiency_mpg'],\n",
       "      dtype='object')"
      ]
     },
     "execution_count": 14,
     "metadata": {},
     "output_type": "execute_result"
    }
   ],
   "source": [
    "df = pd.read_csv(\"https://raw.githubusercontent.com/alexeygrigorev/datasets/master/car_fuel_efficiency.csv\")\n",
    "df.head(10)\n",
    "df.columns"
   ]
  },
  {
   "cell_type": "code",
   "execution_count": null,
   "id": "6aecb400",
   "metadata": {},
   "outputs": [],
   "source": []
  },
  {
   "cell_type": "markdown",
   "id": "f807f2ad-3b73-4822-a7bb-fca1b5ad6476",
   "metadata": {},
   "source": [
    "# Preparing the dataset\n",
    "\n",
    "Use only the following columns:\n",
    "\n",
    "'engine_displacement',\n",
    "'horsepower',\n",
    "'vehicle_weight',\n",
    "'model_year',\n",
    "'fuel_efficiency_mpg'"
   ]
  },
  {
   "cell_type": "code",
   "execution_count": 4,
   "id": "4525ff52-56e5-477b-997f-d99b7f285b5d",
   "metadata": {},
   "outputs": [],
   "source": [
    "df_select = df[['engine_displacement', 'horsepower', 'vehicle_weight', 'model_year', 'fuel_efficiency_mpg']]"
   ]
  },
  {
   "cell_type": "markdown",
   "id": "e027a0dc-5b15-4cbd-bbf5-cb7f8e30acd6",
   "metadata": {},
   "source": [
    "# EDA\n",
    "Look at the fuel_efficiency_mpg variable. Does it have a long tail?"
   ]
  },
  {
   "cell_type": "code",
   "execution_count": 19,
   "id": "23d26cb2-1925-45fc-990d-4c2f20ba98bc",
   "metadata": {},
   "outputs": [
    {
     "data": {
      "image/png": "[encoded data removed]",
      "text/plain": [
       "<Figure size 640x480 with 1 Axes>"
      ]
     },
     "metadata": {},
     "output_type": "display_data"
    }
   ],
   "source": [
    "plt.hist(df_select['fuel_efficiency_mpg'], bins=30)\n",
    "plt.xlabel('Fuel Efficiency (mpg)')\n",
    "plt.ylabel('Frequency')\n",
    "plt.title('Distribution of Fuel Efficiency (mpg)')\n",
    "plt.show()"
   ]
  },
  {
   "cell_type": "markdown",
   "id": "34bce1ed-108d-4d9c-b884-21ffd177b919",
   "metadata": {},
   "source": [
    "# Question 1\n",
    "\n",
    "There's one column with missing values. What is it?\n",
    "\n",
    "'engine_displacement'\n",
    "'horsepower'\n",
    "'vehicle_weight'\n",
    "'model_year'"
   ]
  },
  {
   "cell_type": "code",
   "execution_count": 8,
   "id": "7dff2d91-b27a-4b41-8a51-5c1367c542df",
   "metadata": {},
   "outputs": [
    {
     "data": {
      "text/plain": [
       "Index(['horsepower'], dtype='object')"
      ]
     },
     "execution_count": 8,
     "metadata": {},
     "output_type": "execute_result"
    }
   ],
   "source": [
    "df_select.columns[df_select.isnull().any()]"
   ]
  },
  {
   "cell_type": "markdown",
   "id": "421bb147-8f5d-413a-a6e5-ef3d58e685ed",
   "metadata": {},
   "source": [
    "# Question 2\n",
    "\n",
    "What's the median (50% percentile) for variable 'horsepower'?\n",
    "\n",
    "49\n",
    "99\n",
    "149\n",
    "199"
   ]
  },
  {
   "cell_type": "code",
   "execution_count": 9,
   "id": "63b7ea5c-f6d5-462b-90e6-4d7786be3e4a",
   "metadata": {},
   "outputs": [
    {
     "data": {
      "text/plain": [
       "np.float64(149.0)"
      ]
     },
     "execution_count": 9,
     "metadata": {},
     "output_type": "execute_result"
    }
   ],
   "source": [
    "df_select['horsepower'].median()"
   ]
  },
  {
   "cell_type": "markdown",
   "id": "7e2e535f-ee99-4d0c-9527-b44fff536d0c",
   "metadata": {},
   "source": [
    "# Prepare and split the dataset\n",
    "\n",
    "Shuffle the dataset (the filtered one you created above), use seed 42.\n",
    "Split your data in train/val/test sets, with 60%/20%/20% distribution.\n",
    "Use the same code as in the lectures"
   ]
  },
  {
   "cell_type": "code",
   "execution_count": 23,
   "id": "df73b93d-f390-45cb-bdc4-28ffdd273cc2",
   "metadata": {},
   "outputs": [],
   "source": [
    "n = len(df_select)\n",
    "idx = np.arange(n)\n",
    "\n",
    "np.random.seed(42)\n",
    "np.random.shuffle(idx)\n",
    "\n",
    "n_val = int(n * 0.2)\n",
    "n_test = int(n * 0.2)\n",
    "n_train = n - n_val - n_test\n",
    "\n",
    "df_train = df_select.iloc[idx[:n_train]]\n",
    "df_val = df_select.iloc[idx[n_train:n_train+n_val]]\n",
    "df_test = df_select.iloc[idx[n_train+n_val:]]\n",
    "\n",
    "df_train = df_train.reset_index(drop=True)\n",
    "df_val = df_val.reset_index(drop=True)\n",
    "df_test = df_test.reset_index(drop=True)\n",
    "\n",
    "y_train = df_train.fuel_efficiency_mpg.values\n",
    "y_val = df_val.fuel_efficiency_mpg.values\n",
    "y_test = df_test.fuel_efficiency_mpg.values\n",
    "\n",
    "del df_train['fuel_efficiency_mpg']\n",
    "del df_val['fuel_efficiency_mpg']\n",
    "del df_test['fuel_efficiency_mpg']"
   ]
  },
  {
   "cell_type": "markdown",
   "id": "ca948b31-045b-4618-9bba-a084d5ee68d0",
   "metadata": {},
   "source": [
    "# Question 3\n",
    "\n",
    "* We need to deal with missing values for the column from Q1.\n",
    "* We have two options: fill it with 0 or with the mean of this variable.\n",
    "* Try both options. For each, train a linear regression model without regularization using the code from the lessons.\n",
    "* For computing the mean, use the training only!\n",
    "* Use the validation dataset to evaluate the models and compare the RMSE of each option.\n",
    "* Round the RMSE scores to 2 decimal digits using round(score, 2)\n",
    "* Which option gives better RMSE?\n",
    "\n",
    "Options:\n",
    "\n",
    "- With 0\n",
    "- With mean\n",
    "- Both are equally good"
   ]
  },
  {
   "cell_type": "code",
   "execution_count": 24,
   "id": "b57bb08d-f78f-4a7a-92aa-95851e11fe57",
   "metadata": {},
   "outputs": [],
   "source": [
    "def train_linear_regression(X, y):\n",
    "    ones = np.ones(X.shape[0])\n",
    "    X = np.column_stack([ones, X])\n",
    "\n",
    "    XTX = X.T.dot(X)\n",
    "    XTX_inv = np.linalg.inv(XTX)\n",
    "    w_full = XTX_inv.dot(X.T).dot(y)\n",
    "    \n",
    "    return w_full[0], w_full[1:]"
   ]
  },
  {
   "cell_type": "code",
   "execution_count": 25,
   "id": "cbb47bee-0147-4cfc-ba1c-94e46d879954",
   "metadata": {},
   "outputs": [],
   "source": [
    "def rmse(y, y_pred):\n",
    "    se = (y - y_pred) ** 2\n",
    "    mse = se.mean()\n",
    "    return np.sqrt(mse)"
   ]
  },
  {
   "cell_type": "code",
   "execution_count": 29,
   "id": "b4df06fe-9645-4b44-90aa-5266599e77b0",
   "metadata": {},
   "outputs": [],
   "source": [
    "df_train_zero = df_train.copy()\n",
    "df_train_mean = df_train.copy()\n",
    "df_val_zero = df_val.copy()\n",
    "df_val_mean = df_val.copy()\n",
    "\n",
    "mean_value = df_train['horsepower'].mean()\n",
    "\n",
    "df_train_zero['horsepower'] = df_train_zero['horsepower'].fillna(0)\n",
    "df_train_mean['horsepower'] = df_train_mean['horsepower'].fillna(mean_value)\n",
    "df_val_zero['horsepower'] = df_val_zero['horsepower'].fillna(0)\n",
    "df_val_mean['horsepower'] = df_val_mean['horsepower'].fillna(mean_value)"
   ]
  },
  {
   "cell_type": "code",
   "execution_count": 30,
   "id": "cae9601f-1c4a-4215-86ea-4d0e1631c380",
   "metadata": {},
   "outputs": [
    {
     "data": {
      "text/plain": [
       "np.float64(0.5173782638844466)"
      ]
     },
     "execution_count": 30,
     "metadata": {},
     "output_type": "execute_result"
    }
   ],
   "source": [
    "w0, w = train_linear_regression(df_train_zero, y_train)\n",
    "\n",
    "y_pred = w0 + df_val_zero.dot(w)\n",
    "rmse(y_val, y_pred)"
   ]
  },
  {
   "cell_type": "code",
   "execution_count": 31,
   "id": "26a1c38c-4d71-4a9d-a6e6-d95e6e0c910b",
   "metadata": {},
   "outputs": [
    {
     "data": {
      "text/plain": [
       "np.float64(0.4635965042334585)"
      ]
     },
     "execution_count": 31,
     "metadata": {},
     "output_type": "execute_result"
    }
   ],
   "source": [
    "w0, w = train_linear_regression(df_train_mean, y_train)\n",
    "\n",
    "y_pred = w0 + df_val_mean.dot(w)\n",
    "rmse(y_val, y_pred)"
   ]
  },
  {
   "cell_type": "markdown",
   "id": "c0ee9030-abff-4bf8-8f37-3b9f44e2cfe3",
   "metadata": {},
   "source": [
    "# Question 4\n",
    "\n",
    "- Now let's train a regularized linear regression.\n",
    "- For this question, fill the NAs with 0.\n",
    "- Try different values of r from this list: [0, 0.01, 0.1, 1, 5, 10, 100].\n",
    "- Use RMSE to evaluate the model on the validation dataset.\n",
    "- Round the RMSE scores to 2 decimal digits.\n",
    "- Which r gives the best RMSE?\n",
    "\n",
    "If multiple options give the same best RMSE, select the smallest r.\n",
    "\n",
    "Options:\n",
    "\n",
    "- 0\n",
    "- 0.01\n",
    "- 1\n",
    "- 10\n",
    "- 100"
   ]
  },
  {
   "cell_type": "code",
   "execution_count": 32,
   "id": "0471a1f3-48a7-4e8d-827c-3b0996c7362f",
   "metadata": {},
   "outputs": [],
   "source": [
    "def train_linear_regression_reg(X, y, r=0.001):\n",
    "    ones = np.ones(X.shape[0])\n",
    "    X = np.column_stack([ones, X])\n",
    "\n",
    "    XTX = X.T.dot(X)\n",
    "    XTX = XTX + r * np.eye(XTX.shape[0])\n",
    "\n",
    "    XTX_inv = np.linalg.inv(XTX)\n",
    "    w_full = XTX_inv.dot(X.T).dot(y)\n",
    "    \n",
    "    return w_full[0], w_full[1:]"
   ]
  },
  {
   "cell_type": "code",
   "execution_count": 34,
   "id": "63cc8ffd-3bf6-4247-a956-93c2f3b522cf",
   "metadata": {},
   "outputs": [
    {
     "name": "stdout",
     "output_type": "stream",
     "text": [
      "0.0 28.82736547365895 0.5173782638844466\n",
      "0.01 24.92683841981215 0.5171115525769823\n",
      "0.1 11.239661084581073 0.5187525130702517\n",
      "1 1.7315979411219746 0.5222348802093141\n",
      "5 0.3638075020482907 0.522891609282361\n",
      "10 0.18306246621686947 0.5229812979636599\n",
      "100 0.01841801730688404 0.5230636233819933\n"
     ]
    }
   ],
   "source": [
    "for r in [0.0, 0.01, 0.1, 1, 5, 10, 100]:\n",
    "    w0, w = train_linear_regression_reg(df_train_zero, y_train, r=r)\n",
    "\n",
    "    y_pred = w0 + df_val_zero.dot(w)\n",
    "    score = rmse(y_val, y_pred)\n",
    "    \n",
    "    print(r, w0, score)"
   ]
  },
  {
   "cell_type": "markdown",
   "id": "cffa11c3-ac50-488d-8846-9505d8a47f31",
   "metadata": {},
   "source": [
    "answer: r = 0.01"
   ]
  },
  {
   "cell_type": "markdown",
   "id": "92b0c66c-f0b2-4490-9d81-a60590ec43a6",
   "metadata": {},
   "source": [
    "# Question 5\n",
    "\n",
    "* We used seed 42 for splitting the data.\n",
    "* Let's find out how selecting the seed influences our score.\n",
    "* Try different seed values: [0, 1, 2, 3, 4, 5, 6, 7, 8, 9].\n",
    "* For each seed, do the train/validation/test split with 60%/20%/20% distribution.\n",
    "* Fill the missing values with 0 and train a model without regularization.\n",
    "* For each seed, evaluate the model on the validation dataset and collect the RMSE scores.\n",
    "* What's the standard deviation of all the scores? To compute the standard deviation, use np.std.\n",
    "* Round the result to 3 decimal digits (round(std, 3))\n",
    "\n",
    "What's the value of std?\n",
    "\n",
    "- 0.001\n",
    "- 0.006\n",
    "- 0.060\n",
    "- 0.600"
   ]
  },
  {
   "cell_type": "code",
   "execution_count": 39,
   "id": "3f13b844-1461-4b60-b788-994cb305924f",
   "metadata": {},
   "outputs": [
    {
     "name": "stdout",
     "output_type": "stream",
     "text": [
      "0 27.376388746528697 0.5206531296294218\n",
      "1 29.02246855416138 0.521338891285577\n",
      "2 25.904357611049043 0.5228069974803171\n",
      "3 28.015450067910564 0.515951674119676\n",
      "4 25.93400040472635 0.5109129460053851\n",
      "5 25.89950696063403 0.52834064601107\n",
      "6 25.917230934138303 0.5313910658146311\n",
      "7 28.414324731275375 0.5090670387381733\n",
      "8 26.47841782687521 0.5147399129511132\n",
      "9 27.513852581224892 0.5131865908224594\n",
      "[np.float64(0.5206531296294218), np.float64(0.521338891285577), np.float64(0.5228069974803171), np.float64(0.515951674119676), np.float64(0.5109129460053851), np.float64(0.52834064601107), np.float64(0.5313910658146311), np.float64(0.5090670387381733), np.float64(0.5147399129511132), np.float64(0.5131865908224594)]\n",
      "0.006989446426433706\n"
     ]
    },
    {
     "data": {
      "text/plain": [
       "np.float64(0.007)"
      ]
     },
     "execution_count": 39,
     "metadata": {},
     "output_type": "execute_result"
    }
   ],
   "source": [
    "all_scores = []\n",
    "for s in [0,1,2,3,4,5,6,7,8,9]:\n",
    "    n = len(df_select)\n",
    "    idx = np.arange(n)\n",
    "\n",
    "    np.random.seed(s)\n",
    "    np.random.shuffle(idx)\n",
    "\n",
    "    n_val = int(n * 0.2)\n",
    "    n_test = int(n * 0.2)\n",
    "    n_train = n - n_val - n_test\n",
    "\n",
    "    df_train = df_select.iloc[idx[:n_train]]\n",
    "    df_val = df_select.iloc[idx[n_train:n_train+n_val]]\n",
    "    df_test = df_select.iloc[idx[n_train+n_val:]]\n",
    "\n",
    "    df_train = df_train.reset_index(drop=True)\n",
    "    df_val = df_val.reset_index(drop=True)\n",
    "    df_test = df_test.reset_index(drop=True)\n",
    "\n",
    "    y_train = df_train.fuel_efficiency_mpg.values\n",
    "    y_val = df_val.fuel_efficiency_mpg.values\n",
    "    y_test = df_test.fuel_efficiency_mpg.values\n",
    "\n",
    "    del df_train['fuel_efficiency_mpg']\n",
    "    del df_val['fuel_efficiency_mpg']\n",
    "    del df_test['fuel_efficiency_mpg']\n",
    "    \n",
    "    df_train_zero = df_train.copy()\n",
    "    df_val_zero = df_val.copy()\n",
    "\n",
    "    df_train_zero['horsepower'] = df_train_zero['horsepower'].fillna(0)\n",
    "    df_val_zero['horsepower'] = df_val_zero['horsepower'].fillna(0)\n",
    "\n",
    "    w0, w = train_linear_regression(df_train_zero, y_train)\n",
    "\n",
    "    y_pred = w0 + df_val_zero.dot(w)\n",
    "    score = rmse(y_val, y_pred)\n",
    "    all_scores.append(score)\n",
    "    print(s, w0, score)\n",
    "print(all_scores)\n",
    "print(np.std(all_scores))\n",
    "round(np.std(all_scores),3)"
   ]
  },
  {
   "cell_type": "markdown",
   "id": "97ec1d16-f7ab-4ab4-89ce-04a538f3c31f",
   "metadata": {},
   "source": [
    "# Question 6\n",
    "\n",
    "- Split the dataset like previously, use seed 9.\n",
    "- Combine train and validation datasets.\n",
    "- Fill the missing values with 0 and train a model with r=0.001.\n",
    "- What's the RMSE on the test dataset?\n",
    "\n",
    "Options:\n",
    "\n",
    "- 0.15\n",
    "- 0.515\n",
    "- 5.15\n",
    "- 51.5"
   ]
  },
  {
   "cell_type": "code",
   "execution_count": 41,
   "id": "74c0082b-411d-401c-9337-4719da8a8e9d",
   "metadata": {},
   "outputs": [
    {
     "data": {
      "text/plain": [
       "np.float64(0.4982088125067631)"
      ]
     },
     "execution_count": 41,
     "metadata": {},
     "output_type": "execute_result"
    }
   ],
   "source": [
    "n = len(df_select)\n",
    "idx = np.arange(n)\n",
    "\n",
    "np.random.seed(9)\n",
    "np.random.shuffle(idx)\n",
    "\n",
    "n_val = int(n * 0.2)\n",
    "n_test = int(n * 0.2)\n",
    "n_train = n - n_val - n_test\n",
    "\n",
    "df_train = df_select.iloc[idx[:n_train]]\n",
    "df_val = df_select.iloc[idx[n_train:n_train+n_val]]\n",
    "df_test = df_select.iloc[idx[n_train+n_val:]]\n",
    "\n",
    "df_train = df_train.reset_index(drop=True)\n",
    "df_val = df_val.reset_index(drop=True)\n",
    "df_test = df_test.reset_index(drop=True)\n",
    "\n",
    "y_train = df_train.fuel_efficiency_mpg.values\n",
    "y_val = df_val.fuel_efficiency_mpg.values\n",
    "y_test = df_test.fuel_efficiency_mpg.values\n",
    "\n",
    "del df_train['fuel_efficiency_mpg']\n",
    "del df_val['fuel_efficiency_mpg']\n",
    "del df_test['fuel_efficiency_mpg']\n",
    "    \n",
    "df_train_zero = df_train.copy()\n",
    "df_val_zero = df_val.copy()\n",
    "df_test_zero = df_test.copy()\n",
    "\n",
    "df_train_zero['horsepower'] = df_train_zero['horsepower'].fillna(0)\n",
    "df_val_zero['horsepower'] = df_val_zero['horsepower'].fillna(0)\n",
    "df_test_zero['horsepower'] = df_test_zero['horsepower'].fillna(0)\n",
    "\n",
    "df_full_train = pd.concat([df_train_zero, df_val_zero])\n",
    "df_full_train = df_full_train.reset_index(drop=True)\n",
    "\n",
    "y_full_train = np.concatenate([y_train, y_val])\n",
    "\n",
    "              \n",
    "w0, w = train_linear_regression_reg(df_full_train, y_full_train, r=0.001)\n",
    "\n",
    "y_pred = w0 + df_test.dot(w)\n",
    "score = rmse(y_test, y_pred)\n",
    "score"
   ]
  },
  {
   "cell_type": "code",
   "execution_count": null,
   "id": "cc3fbe57-4a66-48b2-b9ed-56d79f793c23",
   "metadata": {},
   "outputs": [],
   "source": []
  }
 ],
 "metadata": {
  "kernelspec": {
   "display_name": "Python 3 (ipykernel)",
   "language": "python",
   "name": "python3"
  },
  "language_info": {
   "codemirror_mode": {
    "name": "ipython",
    "version": 3
   },
   "file_extension": ".py",
   "mimetype": "text/x-python",
   "name": "python",
   "nbconvert_exporter": "python",
   "pygments_lexer": "ipython3",
   "version": "3.12.1"
  }
 },
 "nbformat": 4,
 "nbformat_minor": 5
}
