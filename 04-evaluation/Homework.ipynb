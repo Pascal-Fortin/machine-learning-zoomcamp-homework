{
 "cells": [
  {
   "cell_type": "code",
   "execution_count": 35,
   "id": "4fb1b469-d9e1-4773-a272-7cb0d3319f9a",
   "metadata": {},
   "outputs": [],
   "source": [
    "import numpy as np\n",
    "import pandas as pd\n",
    "import matplotlib.pyplot as plt\n",
    "from sklearn.model_selection import train_test_split\n",
    "from sklearn.metrics import mutual_info_score\n",
    "from sklearn.linear_model import LogisticRegression\n",
    "from sklearn.metrics import accuracy_score\n",
    "from sklearn.preprocessing import OneHotEncoder\n",
    "from sklearn.metrics import roc_auc_score\n",
    "from sklearn.feature_extraction import DictVectorizer\n",
    "from sklearn.metrics import precision_score, recall_score, f1_score\n",
    "from sklearn.model_selection import KFold"
   ]
  },
  {
   "cell_type": "code",
   "execution_count": 36,
   "id": "11e1d2ba-5ca8-4e0e-bbc0-ab0c926a91d1",
   "metadata": {},
   "outputs": [],
   "source": [
    "df = pd.read_csv(\"https://raw.githubusercontent.com/alexeygrigorev/datasets/master/course_lead_scoring.csv\")"
   ]
  },
  {
   "cell_type": "markdown",
   "id": "4b6ae3d1-49d3-4aa0-a618-ba040711dff7",
   "metadata": {},
   "source": [
    "# Data preparation\n",
    "\n",
    "- Check if the missing values are presented in the features.\n",
    "- If there are missing values:\n",
    "     - For caterogiral features, replace them with 'NA'\n",
    "     - For numerical features, replace with with 0.0\n",
    "\n",
    "- Split the data into 3 parts: train/validation/test with 60%/20%/20% distribution. Use train_test_split function for that with random_state=1"
   ]
  },
  {
   "cell_type": "code",
   "execution_count": 37,
   "id": "64ff864f-8c19-4e80-9b4d-5384b53efdaa",
   "metadata": {},
   "outputs": [],
   "source": [
    "for col in df.columns:\n",
    "    if df[col].isnull().any():\n",
    "        if df[col].dtype == 'object':\n",
    "            df[col] = df[col].fillna('NA')\n",
    "        else:\n",
    "            df[col] = df[col].fillna(0.0)"
   ]
  },
  {
   "cell_type": "code",
   "execution_count": 38,
   "id": "d9bce547-cdd4-4287-9a0e-598bc85f5a94",
   "metadata": {},
   "outputs": [],
   "source": [
    "X = df.drop(columns=['converted'])\n",
    "y = df['converted']\n",
    "\n",
    "# First split into train (60%) and temp (40%)\n",
    "X_train, X_temp, y_train, y_temp = train_test_split(X, y, test_size=0.4, random_state=1)\n",
    "\n",
    "# Then split temp into val (20%) and test (20%)\n",
    "X_val, X_test, y_val, y_test = train_test_split(X_temp, y_temp, test_size=0.5, random_state=1)"
   ]
  },
  {
   "cell_type": "code",
   "execution_count": 5,
   "id": "f697aa57-46b0-43c3-bd76-747f4f806dd7",
   "metadata": {},
   "outputs": [
    {
     "data": {
      "text/html": [
       "<div>\n",
       "<style scoped>\n",
       "    .dataframe tbody tr th:only-of-type {\n",
       "        vertical-align: middle;\n",
       "    }\n",
       "\n",
       "    .dataframe tbody tr th {\n",
       "        vertical-align: top;\n",
       "    }\n",
       "\n",
       "    .dataframe thead th {\n",
       "        text-align: right;\n",
       "    }\n",
       "</style>\n",
       "<table border=\"1\" class=\"dataframe\">\n",
       "  <thead>\n",
       "    <tr style=\"text-align: right;\">\n",
       "      <th></th>\n",
       "      <th>lead_source</th>\n",
       "      <th>industry</th>\n",
       "      <th>number_of_courses_viewed</th>\n",
       "      <th>annual_income</th>\n",
       "      <th>employment_status</th>\n",
       "      <th>location</th>\n",
       "      <th>interaction_count</th>\n",
       "      <th>lead_score</th>\n",
       "    </tr>\n",
       "  </thead>\n",
       "  <tbody>\n",
       "    <tr>\n",
       "      <th>340</th>\n",
       "      <td>organic_search</td>\n",
       "      <td>education</td>\n",
       "      <td>3</td>\n",
       "      <td>69033.0</td>\n",
       "      <td>self_employed</td>\n",
       "      <td>north_america</td>\n",
       "      <td>1</td>\n",
       "      <td>0.43</td>\n",
       "    </tr>\n",
       "    <tr>\n",
       "      <th>596</th>\n",
       "      <td>organic_search</td>\n",
       "      <td>education</td>\n",
       "      <td>3</td>\n",
       "      <td>0.0</td>\n",
       "      <td>student</td>\n",
       "      <td>middle_east</td>\n",
       "      <td>0</td>\n",
       "      <td>0.52</td>\n",
       "    </tr>\n",
       "    <tr>\n",
       "      <th>457</th>\n",
       "      <td>events</td>\n",
       "      <td>education</td>\n",
       "      <td>1</td>\n",
       "      <td>68118.0</td>\n",
       "      <td>student</td>\n",
       "      <td>north_america</td>\n",
       "      <td>7</td>\n",
       "      <td>0.87</td>\n",
       "    </tr>\n",
       "    <tr>\n",
       "      <th>175</th>\n",
       "      <td>social_media</td>\n",
       "      <td>finance</td>\n",
       "      <td>0</td>\n",
       "      <td>65044.0</td>\n",
       "      <td>self_employed</td>\n",
       "      <td>africa</td>\n",
       "      <td>5</td>\n",
       "      <td>0.53</td>\n",
       "    </tr>\n",
       "    <tr>\n",
       "      <th>549</th>\n",
       "      <td>paid_ads</td>\n",
       "      <td>NA</td>\n",
       "      <td>5</td>\n",
       "      <td>48327.0</td>\n",
       "      <td>employed</td>\n",
       "      <td>north_america</td>\n",
       "      <td>0</td>\n",
       "      <td>0.89</td>\n",
       "    </tr>\n",
       "  </tbody>\n",
       "</table>\n",
       "</div>"
      ],
      "text/plain": [
       "        lead_source   industry  number_of_courses_viewed  annual_income  \\\n",
       "340  organic_search  education                         3        69033.0   \n",
       "596  organic_search  education                         3            0.0   \n",
       "457          events  education                         1        68118.0   \n",
       "175    social_media    finance                         0        65044.0   \n",
       "549        paid_ads         NA                         5        48327.0   \n",
       "\n",
       "    employment_status       location  interaction_count  lead_score  \n",
       "340     self_employed  north_america                  1        0.43  \n",
       "596           student    middle_east                  0        0.52  \n",
       "457           student  north_america                  7        0.87  \n",
       "175     self_employed         africa                  5        0.53  \n",
       "549          employed  north_america                  0        0.89  "
      ]
     },
     "execution_count": 5,
     "metadata": {},
     "output_type": "execute_result"
    }
   ],
   "source": [
    "X_train.head()"
   ]
  },
  {
   "cell_type": "markdown",
   "id": "0f85b2b0-fd78-4ffd-8cef-5407a90f162b",
   "metadata": {},
   "source": [
    "# Question 1: ROC AUC feature importance\n",
    "\n",
    "ROC AUC could also be used to evaluate feature importance of numerical variables.\n",
    "\n",
    "Let's do that\n",
    "\n",
    "- For each numerical variable, use it as score (aka prediction) and compute the AUC with the y variable as ground truth.\n",
    "Use the training dataset for that\n",
    "- If your AUC is < 0.5, invert this variable by putting \"-\" in front\n",
    "\n",
    "(e.g. -df_train['balance'])\n",
    "\n",
    "AUC can go below 0.5 if the variable is negatively correlated with the target variable. You can change the direction of the correlation by negating this variable - then negative correlation becomes positive.\n",
    "\n",
    "Which numerical variable (among the following 4) has the highest AUC?\n",
    "\n",
    "- lead_score\n",
    "- number_of_courses_viewed\n",
    "- interaction_count\n",
    "- annual_income"
   ]
  },
  {
   "cell_type": "code",
   "execution_count": 7,
   "id": "9ea4e2ce-8708-4e68-91e2-96531bdc1882",
   "metadata": {},
   "outputs": [
    {
     "name": "stdout",
     "output_type": "stream",
     "text": [
      "number_of_courses_viewed: 0.765\n",
      "interaction_count: 0.727\n",
      "lead_score: 0.611\n",
      "annual_income: 0.545\n"
     ]
    }
   ],
   "source": [
    "num_cols = ['number_of_courses_viewed', 'annual_income', 'interaction_count', 'lead_score']\n",
    "\n",
    "results = []\n",
    "\n",
    "for col in num_cols:\n",
    "    # ensure numeric and drop NA in pairwise fashion\n",
    "    scores = pd.to_numeric(X_train[col], errors='coerce')\n",
    "    mask = scores.notnull() & pd.Series(y_train).notnull()\n",
    "    s = scores[mask]\n",
    "    y = pd.Series(y_train)[mask].astype(int)\n",
    "\n",
    "    if len(s) == 0:\n",
    "        print(f\"{col}: no valid values in training set (skipping)\")\n",
    "        continue\n",
    "\n",
    "    auc = roc_auc_score(y, s)\n",
    "    auc_adjusted = auc\n",
    "    used_scores = s\n",
    "\n",
    "    # if AUC < 0.5, invert the scores and recompute\n",
    "    if auc < 0.5:\n",
    "        s_inv = -s\n",
    "        auc_inv = roc_auc_score(y, s_inv)\n",
    "        auc_adjusted = auc_inv\n",
    "        used_scores = s_inv\n",
    "        note = \" (inverted)\"\n",
    "    else:\n",
    "        note = \"\"\n",
    "\n",
    "    results.append((col, auc_adjusted, note))\n",
    "\n",
    "# sort by AUC descending\n",
    "results_sorted = sorted(results, key=lambda x: x[1], reverse=True)\n",
    "\n",
    "for col, auc_val, note in results_sorted:\n",
    "    print(f\"{col}: {round(auc_val, 3)}{note}\")"
   ]
  },
  {
   "cell_type": "markdown",
   "id": "a9c9475b-5eb0-42d3-9acd-2677c985c158",
   "metadata": {},
   "source": [
    "# Question 2: Training the model\n",
    "\n",
    "Apply one-hot-encoding using DictVectorizer and train the logistic regression with these parameters:\n",
    "\n",
    "- LogisticRegression(solver='liblinear', C=1.0, max_iter=1000)\n",
    "\n",
    "What's the AUC of this model on the validation dataset? (round to 3 digits)\n",
    "\n",
    "- 0.32\n",
    "- 0.52\n",
    "- 0.72\n",
    "- 0.92"
   ]
  },
  {
   "cell_type": "code",
   "execution_count": 13,
   "id": "6488cfe6-a365-430d-91ef-cb419d4a8f56",
   "metadata": {},
   "outputs": [
    {
     "name": "stdout",
     "output_type": "stream",
     "text": [
      "AUC (validation) = 0.794\n"
     ]
    }
   ],
   "source": [
    "# Ensure target arrays are numeric (0/1)\n",
    "y_train_arr = np.array(y_train).astype(int)\n",
    "y_val_arr = np.array(y_val).astype(int)\n",
    "\n",
    "# Create DictVectorizer (support different sklearn versions)\n",
    "try:\n",
    "    dv = DictVectorizer(sparse=False)\n",
    "except TypeError:\n",
    "    dv = DictVectorizer(sparse_output=False)\n",
    "\n",
    "# Vectorize training and validation feature data\n",
    "X_train_dict = X_train.to_dict(orient='records')\n",
    "X_val_dict = X_val.to_dict(orient='records')\n",
    "X_train_vect = dv.fit_transform(X_train_dict)\n",
    "X_val_vect = dv.transform(X_val_dict)\n",
    "\n",
    "# Train logistic regression\n",
    "model = LogisticRegression(solver='liblinear', C=1.0, max_iter=1000)\n",
    "model.fit(X_train_vect, y_train_arr)\n",
    "\n",
    "# Predict probabilities on validation set and compute AUC\n",
    "y_val_pred_proba = model.predict_proba(X_val_vect)[:, 1]\n",
    "auc = roc_auc_score(y_val_arr, y_val_pred_proba)\n",
    "print('AUC (validation) =', round(auc, 3))"
   ]
  },
  {
   "cell_type": "markdown",
   "id": "de397445-ba51-46cf-b2a3-de69488383be",
   "metadata": {},
   "source": [
    "# Question 3: Precision and Recall\n",
    "\n",
    "Now let's compute precision and recall for our model.\n",
    "\n",
    "- Evaluate the model on all thresholds from 0.0 to 1.0 with step 0.01\n",
    "- For each threshold, compute precision and recall\n",
    "- Plot them\n",
    "\n",
    "At which threshold precision and recall curves intersect?\n",
    "\n",
    "- 0.145\n",
    "- 0.345\n",
    "- 0.545\n",
    "- 0.745"
   ]
  },
  {
   "cell_type": "code",
   "execution_count": 22,
   "id": "9bdcf68e-1db1-41a4-bf54-94aba786bd98",
   "metadata": {},
   "outputs": [
    {
     "data": {
      "image/png": "[encoded data removed]",
      "text/plain": [
       "<Figure size 800x500 with 1 Axes>"
      ]
     },
     "metadata": {},
     "output_type": "display_data"
    }
   ],
   "source": [
    "# Evaluate precision & recall over thresholds\n",
    "thresholds = np.arange(0.0, 1.001, 0.01)\n",
    "precisions = []\n",
    "recalls = []\n",
    "\n",
    "for t in thresholds:\n",
    "    y_pred_t = (y_val_pred_proba >= t).astype(int)\n",
    "    precisions.append(precision_score(y_val_arr, y_pred_t, zero_division=0))\n",
    "    recalls.append(recall_score(y_val_arr, y_pred_t, zero_division=0))\n",
    "\n",
    "precisions = np.array(precisions)\n",
    "recalls = np.array(recalls)\n",
    "\n",
    "# Plot\n",
    "plt.figure(figsize=(8, 5))\n",
    "plt.plot(thresholds, precisions, label='Precision', lw=2)\n",
    "plt.plot(thresholds, recalls, label='Recall', lw=2)\n",
    "plt.xlabel('Threshold')\n",
    "plt.ylabel('Score')\n",
    "plt.title('Precision and Recall vs Threshold')\n",
    "plt.legend()\n",
    "plt.grid(True)\n",
    "plt.show()"
   ]
  },
  {
   "cell_type": "markdown",
   "id": "5184c388-d95e-4335-9d1e-6148e4aa6fbf",
   "metadata": {},
   "source": [
    "# Question 4: F1 score\n",
    "\n",
    "Precision and recall are conflicting - when one grows, the other goes down. That's why they are often combined into the F1 score - a metrics that takes into account both.\n",
    "\n",
    "Let's compute F1 for all thresholds from 0.0 to 1.0 with increment 0.01\n",
    "\n",
    "At which threshold F1 is maximal?\n",
    "\n",
    "0.14\n",
    "0.34\n",
    "0.54\n",
    "0.74"
   ]
  },
  {
   "cell_type": "code",
   "execution_count": 27,
   "id": "6c7d6a6a-5d77-4858-8519-5be2c2256776",
   "metadata": {},
   "outputs": [
    {
     "name": "stdout",
     "output_type": "stream",
     "text": [
      "Max F1 = 0.8485 at thresholds:\n",
      " threshold  precision   recall       f1\n",
      "      0.47   0.767932 0.947917 0.848485\n"
     ]
    },
    {
     "data": {
      "image/png": "[encoded data removed]",
      "text/plain": [
       "<Figure size 800x500 with 1 Axes>"
      ]
     },
     "metadata": {},
     "output_type": "display_data"
    }
   ],
   "source": [
    "thresholds = np.arange(0.0, 1.001, 0.01)\n",
    "rows = []\n",
    "\n",
    "for t in thresholds:\n",
    "    y_pred_t = (y_val_pred_proba >= t).astype(int)\n",
    "    p = precision_score(y_val_arr, y_pred_t, zero_division=0)\n",
    "    r = recall_score(y_val_arr, y_pred_t, zero_division=0)\n",
    "    f1 = f1_score(y_val_arr, y_pred_t, zero_division=0)\n",
    "    rows.append((t, p, r, f1))\n",
    "    \n",
    "df_thr = pd.DataFrame(rows, columns=['threshold', 'precision', 'recall', 'f1'])\n",
    "df_thr.head()\n",
    "\n",
    "# Find max F1 threshold(s)\n",
    "max_f1 = df_thr['f1'].max()\n",
    "best = df_thr[df_thr['f1'] == max_f1]\n",
    "print(f'Max F1 = {max_f1:.4f} at thresholds:')\n",
    "print(best.to_string(index=False))\n",
    "\n",
    "# Plot\n",
    "plt.figure(figsize=(8, 5))\n",
    "plt.plot(thresholds, df_thr['f1'], label='F1', lw=2)\n",
    "plt.xlabel('Threshold')\n",
    "plt.ylabel('F1')\n",
    "plt.legend()\n",
    "plt.grid(True)\n",
    "plt.show()"
   ]
  },
  {
   "cell_type": "markdown",
   "id": "cabc2bd2-7db8-4182-a47d-9499340d52d4",
   "metadata": {},
   "source": [
    "# Question 5: 5-Fold CV\n",
    "\n",
    "Use the KFold class from Scikit-Learn to evaluate our model on 5 different folds:\n",
    "\n",
    "KFold(n_splits=5, shuffle=True, random_state=1)\n",
    "\n",
    "- Iterate over different folds of df_full_train\n",
    "- Split the data into train and validation\n",
    "- Train the model on train with these parameters: LogisticRegression(solver='liblinear', C=1.0, max_iter=1000)\n",
    "- Use AUC to evaluate the model on validation\n",
    "\n",
    "How large is standard deviation of the scores across different folds?\n",
    "\n",
    "- 0.0001\n",
    "- 0.006\n",
    "- 0.06\n",
    "- 0.36"
   ]
  },
  {
   "cell_type": "code",
   "execution_count": 39,
   "id": "6c8597d6-51fa-43ef-8aac-487ad6f1a81b",
   "metadata": {},
   "outputs": [
    {
     "data": {
      "text/plain": [
       "(1462, 8)"
      ]
     },
     "execution_count": 39,
     "metadata": {},
     "output_type": "execute_result"
    }
   ],
   "source": [
    "X.shape"
   ]
  },
  {
   "cell_type": "code",
   "execution_count": 40,
   "id": "022138e4-2898-4866-895a-50d322589485",
   "metadata": {},
   "outputs": [
    {
     "data": {
      "text/plain": [
       "(1462,)"
      ]
     },
     "execution_count": 40,
     "metadata": {},
     "output_type": "execute_result"
    }
   ],
   "source": [
    "y.shape"
   ]
  },
  {
   "cell_type": "code",
   "execution_count": 44,
   "id": "e2fb19c2-9fbb-4840-80f0-150f9c6ed776",
   "metadata": {},
   "outputs": [
    {
     "name": "stdout",
     "output_type": "stream",
     "text": [
      "Fold 1: AUC = 0.81722\n",
      "Fold 2: AUC = 0.77928\n",
      "Fold 3: AUC = 0.83093\n",
      "Fold 4: AUC = 0.86760\n",
      "Fold 5: AUC = 0.80934\n",
      "Mean AUC: 0.82087\n",
      "Std AUC : 0.02885\n"
     ]
    }
   ],
   "source": [
    "# Convert to list-of-dicts for DictVectorizer (handles categorical automatically)\n",
    "dicts = X.to_dict(orient='records')\n",
    "y_t = y.astype(int).values\n",
    "\n",
    "# Setup KFold\n",
    "kf = KFold(n_splits=5, shuffle=True, random_state=1)\n",
    "\n",
    "aucs = []\n",
    "fold = 0\n",
    "for train_idx, val_idx in kf.split(dicts):\n",
    "    fold += 1\n",
    "    # Split raw dicts\n",
    "    train_dicts = [dicts[i] for i in train_idx]\n",
    "    val_dicts = [dicts[i] for i in val_idx]\n",
    "    y_train = y_t[train_idx]\n",
    "    y_val = y_t[val_idx]\n",
    "\n",
    "    # Vectorize with DictVectorizer (fit on train only)\n",
    "    dv = DictVectorizer(sparse=False)\n",
    "    X_train = dv.fit_transform(train_dicts)\n",
    "    X_val = dv.transform(val_dicts)\n",
    "\n",
    "    # Train logistic regression\n",
    "    model = LogisticRegression(solver='liblinear', C=1.0, max_iter=1000)\n",
    "    model.fit(X_train, y_train)\n",
    "\n",
    "    # Predict probabilities and compute AUC\n",
    "    y_val_proba = model.predict_proba(X_val)[:, 1]\n",
    "    auc = roc_auc_score(y_val, y_val_proba)\n",
    "    aucs.append(auc)\n",
    "    print(f'Fold {fold}: AUC = {auc:.5f}')\n",
    "\n",
    "aucs = np.array(aucs)\n",
    "print(f'Mean AUC: {aucs.mean():.5f}')\n",
    "print(f'Std AUC : {aucs.std():.5f}')"
   ]
  },
  {
   "cell_type": "markdown",
   "id": "d947c01f-49bb-4215-8e1f-712817eb8080",
   "metadata": {},
   "source": [
    "# Question 6: Hyperparameter Tuning\n",
    "\n",
    "Now let's use 5-Fold cross-validation to find the best parameter C\n",
    "\n",
    "- Iterate over the following C values: [0.000001, 0.001, 1]\n",
    "- Initialize KFold with the same parameters as previously\n",
    "- Use these parameters for the model: LogisticRegression(solver='liblinear', C=C, max_iter=1000)\n",
    "- Compute the mean score as well as the std (round the mean and std to 3 decimal digits)\n",
    "\n",
    "Which C leads to the best mean score?\n",
    "\n",
    "- 0.000001\n",
    "- 0.001\n",
    "- 1\n",
    "\n",
    "If you have ties, select the score with the lowest std. If you still have ties, select the smallest C."
   ]
  },
  {
   "cell_type": "code",
   "execution_count": 45,
   "id": "4ec43f4e-745d-40b9-8105-898e8b4d80ef",
   "metadata": {},
   "outputs": [
    {
     "data": {
      "text/plain": [
       "(1462,)"
      ]
     },
     "execution_count": 45,
     "metadata": {},
     "output_type": "execute_result"
    }
   ],
   "source": [
    "y.shape"
   ]
  },
  {
   "cell_type": "code",
   "execution_count": 48,
   "id": "fd40041e-e869-4009-bc7e-5246e06823cf",
   "metadata": {},
   "outputs": [
    {
     "data": {
      "text/plain": [
       "1462"
      ]
     },
     "execution_count": 48,
     "metadata": {},
     "output_type": "execute_result"
    }
   ],
   "source": [
    "len(dicts)"
   ]
  },
  {
   "cell_type": "code",
   "execution_count": 49,
   "id": "25a7b146-c595-45f5-a054-50fc8792377a",
   "metadata": {},
   "outputs": [
    {
     "name": "stdout",
     "output_type": "stream",
     "text": [
      "C=1e-06: mean AUC=0.549, std AUC=0.030\n",
      "C=0.001: mean AUC=0.862, std AUC=0.024\n",
      "C=1: mean AUC=0.821, std AUC=0.029\n"
     ]
    }
   ],
   "source": [
    "# Parameters\n",
    "Cs = [1e-6, 0.001, 1]\n",
    "kf = KFold(n_splits=5, shuffle=True, random_state=1)\n",
    "\n",
    "results = {}\n",
    "\n",
    "for C in Cs:\n",
    "    aucs = []\n",
    "    for train_idx, val_idx in kf.split(dicts):\n",
    "        # Prepare train/val dicts and labels\n",
    "        train_dicts = [dicts[i] for i in train_idx]\n",
    "        val_dicts = [dicts[i] for i in val_idx]\n",
    "        y_train = y_t[train_idx]\n",
    "        y_val = y_t[val_idx]\n",
    "\n",
    "        # Vectorize\n",
    "        dv = DictVectorizer(sparse=False)\n",
    "        X_train = dv.fit_transform(train_dicts)\n",
    "        X_val = dv.transform(val_dicts)\n",
    "\n",
    "        # Train and evaluate\n",
    "        model = LogisticRegression(solver='liblinear', C=C, max_iter=1000)\n",
    "        model.fit(X_train, y_train)\n",
    "        y_val_proba = model.predict_proba(X_val)[:, 1]\n",
    "        auc = roc_auc_score(y_val, y_val_proba)\n",
    "        aucs.append(auc)\n",
    "\n",
    "    aucs = np.array(aucs)\n",
    "    mean_auc = aucs.mean()\n",
    "    std_auc = aucs.std()\n",
    "    results[C] = (mean_auc, std_auc)\n",
    "    print(f'C={C}: mean AUC={mean_auc:.3f}, std AUC={std_auc:.3f}')"
   ]
  },
  {
   "cell_type": "code",
   "execution_count": null,
   "id": "3e901b0c-34c8-4a6f-864d-657737803134",
   "metadata": {},
   "outputs": [],
   "source": []
  }
 ],
 "metadata": {
  "kernelspec": {
   "display_name": "Python 3 (ipykernel)",
   "language": "python",
   "name": "python3"
  },
  "language_info": {
   "codemirror_mode": {
    "name": "ipython",
    "version": 3
   },
   "file_extension": ".py",
   "mimetype": "text/x-python",
   "name": "python",
   "nbconvert_exporter": "python",
   "pygments_lexer": "ipython3",
   "version": "3.12.1"
  }
 },
 "nbformat": 4,
 "nbformat_minor": 5
}
